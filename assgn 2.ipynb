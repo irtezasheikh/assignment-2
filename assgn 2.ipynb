{
 "cells": [
  {
   "cell_type": "code",
   "execution_count": 9,
   "id": "ac72cd81",
   "metadata": {},
   "outputs": [],
   "source": [
    "#week 2 assignment\n",
    "## Jupyter (IPython) Notebook \n",
    "## zip() function"
   ]
  },
  {
   "cell_type": "code",
   "execution_count": 8,
   "id": "f82e8db4",
   "metadata": {},
   "outputs": [
    {
     "name": "stdout",
     "output_type": "stream",
     "text": [
      "[('user1', 'Abe'), ('user2', 'John')]\n"
     ]
    }
   ],
   "source": [
    "#zip function \n",
    "users = ['user1','user2']\n",
    "names = ['Abe','John']\n",
    "print(list(zip(users,names)))"
   ]
  },
  {
   "cell_type": "code",
   "execution_count": null,
   "id": "1d1befdf",
   "metadata": {},
   "outputs": [],
   "source": []
  }
 ],
 "metadata": {
  "kernelspec": {
   "display_name": "Python 3 (ipykernel)",
   "language": "python",
   "name": "python3"
  },
  "language_info": {
   "codemirror_mode": {
    "name": "ipython",
    "version": 3
   },
   "file_extension": ".py",
   "mimetype": "text/x-python",
   "name": "python",
   "nbconvert_exporter": "python",
   "pygments_lexer": "ipython3",
   "version": "3.10.6"
  }
 },
 "nbformat": 4,
 "nbformat_minor": 5
}
